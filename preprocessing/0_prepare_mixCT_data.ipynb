{
 "cells": [
  {
   "cell_type": "markdown",
   "source": [
    "## resample images\n",
    "All images now have a standardized slice thickness and slice increment, but can still have different resolution in the x/y-plane. While manual annotations etc were all done on these 3mm images, the images and calcium masks are internally resampled again to the average resolution of 0.66 x 0.66 x 1.5 mm³. For better performance, we can do this once and store the resampled images (this requires around 100 GB):"
   ],
   "metadata": {
    "collapsed": false
   }
  },
  {
   "cell_type": "code",
   "execution_count": 2,
   "outputs": [
    {
     "name": "stdout",
     "output_type": "stream",
     "text": [
      "400 scans in image dir\n",
      "400 images and masks resampled to standard resolution\n"
     ]
    },
    {
     "name": "stderr",
     "output_type": "stream",
     "text": [
      "100%|██████████| 400/400 [33:59<00:00,  5.10s/it]\n"
     ]
    }
   ],
   "source": [
    "from os import path\n",
    "import os, tqdm\n",
    "from glob import glob\n",
    "from utils import io, resampling\n",
    "input_dir = 'D:/data/CT_CCTA/mixCT'\n",
    "scratch_dir = 'D:/data/CT_CCTA/resampled_mixCT'\n",
    "input_imagedir = path.join(input_dir, 'images')\n",
    "\n",
    "standard_resolution = (1.5, 0.66, 0.66)  # z, y, x\n",
    "standard_imagedir = path.join(scratch_dir, 'images_resampled')\n",
    "\n",
    "if not path.exists(standard_imagedir):\n",
    "    os.makedirs(standard_imagedir)\n",
    "\n",
    "\n",
    "# Iterate over all images and resample them to the standard resolution\n",
    "n_resampled = 0\n",
    "image_files = glob(path.join(input_imagedir, '*.mhd'))\n",
    "\n",
    "print(\"{} scans in image dir\".format(len(image_files)) )\n",
    "for i in tqdm.tqdm( range(len(image_files))):\n",
    "    image_file = image_files[i]\n",
    "\n",
    "    series_uid = path.basename(image_file)[:-4]\n",
    "    standard_image_file = path.join(standard_imagedir, series_uid + '.mhd')\n",
    "\n",
    "    if path.exists(standard_image_file) :\n",
    "        continue\n",
    "\n",
    "    # Load image, resample to standard resolution, save again\n",
    "    image, spacing, origin = io.read_image(image_file)\n",
    "    image = resampling.resample_image(image, spacing, standard_resolution)\n",
    "    io.write_image(standard_image_file, image, standard_resolution, origin)\n",
    "\n",
    "    n_resampled += 1\n",
    "\n",
    "print('{} images and masks resampled to standard resolution'.format(n_resampled))"
   ],
   "metadata": {
    "collapsed": false,
    "pycharm": {
     "name": "#%%\n"
    }
   }
  },
  {
   "cell_type": "markdown",
   "source": [
    " prepare data set csv for CT and CCTA"
   ],
   "metadata": {
    "collapsed": false,
    "pycharm": {
     "name": "#%% md\n"
    }
   }
  },
  {
   "cell_type": "code",
   "execution_count": 13,
   "outputs": [
    {
     "name": "stderr",
     "output_type": "stream",
     "text": [
      "100%|██████████| 400/400 [04:28<00:00,  1.49it/s]\n"
     ]
    }
   ],
   "source": [
    "import csv\n",
    "from glob import glob\n",
    "import pandas as pd\n",
    "from sklearn.utils import shuffle\n",
    "from os import path\n",
    "import SimpleITK as sitk\n",
    "\n",
    "header = [\"Patient ID\",\"Series Instance UID\",\"FBP Reconstruction Kernel\",\"Original Slice Thickness\",\"Original Slice Order\",\"Observer\",\"Subset\"]\n",
    "ctDir = 'D:/data/CT_CCTA/mixCT'\n",
    "files = glob(\"{}/images/*.mhd\".format( ctDir ) )\n",
    "\n",
    "data = []\n",
    "N = len(files)\n",
    "\n",
    "# test list\n",
    "for i in tqdm.tqdm( range(N) ):\n",
    "    f = files[i]\n",
    "    uid = path.basename(f)[:-4]\n",
    "    f = \"{}/images/{}.mhd\".format(ctDir, uid)\n",
    "    shead = sitk.ReadImage(f)\n",
    "    subset = 'ccta' if 'Contrast' in uid else 'ct'\n",
    "\n",
    "    list = [i, uid, 0, shead.GetSpacing()[-1], 0, 'A', subset]\n",
    "    data.append(list)\n",
    "\n",
    "with open(\"{}/dataset.csv\".format(ctDir), 'w', encoding='cp1252', newline='') as f:\n",
    "    writer = csv.writer(f)\n",
    "    writer.writerow( header )\n",
    "    writer.writerows(data)\n",
    "\n"
   ],
   "metadata": {
    "collapsed": false,
    "pycharm": {
     "name": "#%%\n"
    }
   }
  }
 ],
 "metadata": {
  "kernelspec": {
   "display_name": "Python 3",
   "language": "python",
   "name": "python3"
  },
  "language_info": {
   "codemirror_mode": {
    "name": "ipython",
    "version": 2
   },
   "file_extension": ".py",
   "mimetype": "text/x-python",
   "name": "python",
   "nbconvert_exporter": "python",
   "pygments_lexer": "ipython2",
   "version": "2.7.6"
  }
 },
 "nbformat": 4,
 "nbformat_minor": 0
}