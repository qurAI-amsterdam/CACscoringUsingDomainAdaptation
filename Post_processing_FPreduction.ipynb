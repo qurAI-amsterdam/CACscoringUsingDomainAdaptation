{
 "cells": [
  {
   "cell_type": "markdown",
   "metadata": {
    "collapsed": true,
    "pycharm": {
     "name": "#%% md\n"
    }
   },
   "source": [
    "## Post-processing with region-growing"
   ]
  },
  {
   "cell_type": "code",
   "execution_count": 4,
   "outputs": [
    {
     "name": "stdout",
     "output_type": "stream",
     "text": [
      "313\n",
      "Refine with region growing finished\n"
     ]
    },
    {
     "name": "stderr",
     "output_type": "stream",
     "text": [
      "100%|██████████| 313/313 [6:29:27<00:00, 74.66s/it]    \n"
     ]
    }
   ],
   "source": [
    "import numpy as np\n",
    "from utils.util import remove_small_lesions, regiongrow_lesions, get_T\n",
    "import SimpleITK as sitk\n",
    "import os, glob, tqdm\n",
    "from utils.io import read_image, write_image\n",
    "\n",
    "dir = \"D:/data/ContrastCT_IDR/resampled_CCTA\"\n",
    "imdir = \"{}/images_resampled\".format(dir)\n",
    "# model = \"predictions_GAN_mixCT_adv_cls_MMD_EpochN200_lr5.0e-4wcls_2.0wmmd0.0_DeeplySupervised_NLST_newImp_adam_1012_700\"\n",
    "model = \"predictions_GAN_NLST_mixCT_adv_cls_loss_MMD_firstD2.0K_clip0.1_EpochN200_lr5.0e-4_DeeplySupervised_NLST_newImp_adam_1012_700\"\n",
    "max_vol = 500\n",
    "tdir = \"{}/{}_rg_nrs_{}/calcium_masks\".format(dir, model, max_vol)\n",
    "if not os.path.exists(tdir):\n",
    "    os.makedirs(tdir)\n",
    "predfiles = glob.glob(\"{}/{}/calcium_masks/*.mhd\".format(dir, model))\n",
    "print(len(predfiles))\n",
    "N = len(predfiles)\n",
    "for i in tqdm.tqdm( range( N ) ):\n",
    "    predf = predfiles[i]\n",
    "    case = os.path.split(predf)[-1]\n",
    "    imf = \"{}/{}\".format( imdir, case )\n",
    "\n",
    "    output_filename = \"{}/{}\".format(tdir, case)\n",
    "    if os.path.exists(output_filename):\n",
    "        continue\n",
    "\n",
    "    # Perform region growing on clacium mask\n",
    "    image, spacing, origin = read_image(imf)\n",
    "    mask = read_image(predf, only_data=True)\n",
    "    imT = get_T( imf )\n",
    "    mask[image < imT] = 0\n",
    "    # print(case, imT)\n",
    "\n",
    "    # Store calcium scores in CSV file\n",
    "    # mask = remove_small_lesions(mask, spacing)\n",
    "    try:\n",
    "        mask = regiongrow_lesions(mask, image, spacing, max_vol=max_vol, Threshold=imT)\n",
    "    except:\n",
    "        print('case: ', case, \"region growing failed!!\")\n",
    "    # try to remove FP with region growing\n",
    "    # output_filename = \"{}/{}\".format(tdir, case)\n",
    "    write_image(output_filename, mask.astype(np.int16), spacing, origin)\n",
    "\n",
    "print(\"Refine with region growing finished\")"
   ],
   "metadata": {
    "collapsed": false,
    "pycharm": {
     "name": "#%% post-processing region growing\n"
    }
   }
  },
  {
   "cell_type": "markdown",
   "source": [
    "### Apply heart mask"
   ],
   "metadata": {
    "collapsed": false
   }
  },
  {
   "cell_type": "code",
   "execution_count": 4,
   "outputs": [
    {
     "name": "stdout",
     "output_type": "stream",
     "text": [
      "313\n"
     ]
    },
    {
     "name": "stderr",
     "output_type": "stream",
     "text": [
      "100%|██████████| 313/313 [00:22<00:00, 13.83it/s]\n"
     ]
    }
   ],
   "source": [
    "import numpy as np\n",
    "from utils.util import remove_small_lesions, regiongrow_lesions, get_T\n",
    "import SimpleITK as sitk\n",
    "import os, glob, tqdm\n",
    "from utils.io import read_image, write_image\n",
    "\n",
    "dir = \"D:/data/ContrastCT_IDR/resampled_CCTA\"\n",
    "imdir = \"{}/images_resampled\".format(dir)\n",
    "heartdir = \"{}/mask\".format(dir)\n",
    "model = \"predictions_GAN_mixCT_adv_cls_MMD_EpochN200_lr5.0e-4wcls_2.0wmmd0.0_DeeplySupervised_NLST_newImp_adam_1012_700_rg_nrs_500\"\n",
    "\n",
    "tdir = \"{}/{}_heart/calcium_masks\".format(dir, model )\n",
    "if not os.path.exists(tdir):\n",
    "    os.makedirs(tdir)\n",
    "predfiles = glob.glob(\"{}/{}/calcium_masks/*.mhd\".format(dir, model))\n",
    "print(len(predfiles))\n",
    "N = len(predfiles)\n",
    "for i in tqdm.tqdm(range( N ) ):\n",
    "    predf = predfiles[i]\n",
    "    case = os.path.split(predf)[-1]\n",
    "\n",
    "    mask, spacing, origin = read_image( predf )\n",
    "    heartf = '{}/{}'.format(heartdir, case)\n",
    "    heart = read_image(heartf, only_data=True)\n",
    "\n",
    "    # remove FP outside heart\n",
    "    mask[heart==0] = 0\n",
    "\n",
    "    output_filename = \"{}/{}\".format(tdir, case)\n",
    "    write_image(output_filename, mask.astype(np.int16), spacing, origin)\n"
   ],
   "metadata": {
    "collapsed": false,
    "pycharm": {
     "name": "#%%\n"
    }
   }
  },
  {
   "cell_type": "markdown",
   "source": [
    "### Apply heart mask and remove small lesion\n",
    "with volume less than T voxels"
   ],
   "metadata": {
    "collapsed": false,
    "pycharm": {
     "name": "#%% md\n"
    }
   }
  },
  {
   "cell_type": "code",
   "execution_count": 5,
   "outputs": [
    {
     "name": "stdout",
     "output_type": "stream",
     "text": [
      "313\n"
     ]
    },
    {
     "name": "stderr",
     "output_type": "stream",
     "text": [
      "100%|██████████| 313/313 [52:37<00:00, 10.09s/it]  \n"
     ]
    }
   ],
   "source": [
    "import numpy as np\n",
    "from utils.util import remove_small_lesions, regiongrow_lesions, get_T\n",
    "import SimpleITK as sitk\n",
    "import os, glob, tqdm\n",
    "from utils.io import read_image, write_image\n",
    "\n",
    "dir = \"D:/data/ContrastCT_IDR/resampled_CCTA\"\n",
    "imdir = \"{}/images_resampled\".format(dir)\n",
    "heartdir = \"{}/mask\".format(dir)\n",
    "# model = \"predictions_GAN_mixCT_adv_cls_MMD_EpochN200_lr5.0e-4wcls_2.0wmmd0.0_DeeplySupervised_NLST_newImp_adam_1012_700_rg_nrs_500\"\n",
    "model = \"predictions_GAN_NLST_mixCT_adv_cls_loss_MMD_firstD2.0K_clip0.1_EpochN200_lr5.0e-4_DeeplySupervised_NLST_newImp_adam_1012_700_rg_nrs_500\"\n",
    "min_voxel = 2\n",
    "tdir = \"{}/{}_sl_{}_heart/calcium_masks\".format(dir, model, min_voxel)\n",
    "if not os.path.exists(tdir):\n",
    "    os.makedirs(tdir)\n",
    "predfiles = glob.glob(\"{}/{}/calcium_masks/*.mhd\".format(dir, model))\n",
    "print(len(predfiles))\n",
    "N = len(predfiles)\n",
    "for i in tqdm.tqdm(range( N ) ):\n",
    "    predf = predfiles[i]\n",
    "    case = os.path.split(predf)[-1]\n",
    "\n",
    "    mask, spacing, origin = read_image( predf )\n",
    "    heartf = '{}/{}'.format(heartdir, case)\n",
    "    heart = read_image(heartf, only_data=True)\n",
    "\n",
    "    # remove FP outside heart\n",
    "    mask[heart==0] = 0\n",
    "\n",
    "    # Store calcium scores in CSV file\n",
    "    mask = remove_small_lesions(mask, spacing, min_voxel)\n",
    "\n",
    "    output_filename = \"{}/{}\".format(tdir, case)\n",
    "    write_image(output_filename, mask.astype(np.int16), spacing, origin)\n",
    "\n"
   ],
   "metadata": {
    "collapsed": false,
    "pycharm": {
     "name": "#%%\n"
    }
   }
  }
 ],
 "metadata": {
  "kernelspec": {
   "display_name": "Python 3",
   "language": "python",
   "name": "python3"
  },
  "language_info": {
   "codemirror_mode": {
    "name": "ipython",
    "version": 2
   },
   "file_extension": ".py",
   "mimetype": "text/x-python",
   "name": "python",
   "nbconvert_exporter": "python",
   "pygments_lexer": "ipython2",
   "version": "2.7.6"
  }
 },
 "nbformat": 4,
 "nbformat_minor": 0
}